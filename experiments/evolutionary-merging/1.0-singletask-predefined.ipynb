{
 "cells": [
  {
   "cell_type": "markdown",
   "id": "0fd879e0-c9a5-4fc1-9d6b-3f70860c9c56",
   "metadata": {},
   "source": [
    "# Tutorial: Cross-Lingual Evolutionary Merging with Mergenetic\n",
    "\n",
    "In this notebook we demonstrate how to set up and run a cross-lingual evolutionary merging experiment using the Mergenetic library. \n",
    "\n",
    "The notebook follows these steps:\n",
    "\n",
    "1. **Data Loading:** Load the dataset from a CSV file.\n",
    "2. **Anchor Extraction:** Randomly sample anchor points from the data.\n",
    "3. **Model Evaluation:** Evaluate the base models to obtain their responses.\n",
    "4. **Theta Retrieval:** Retrieve latent ability parameters (thetas).\n",
    "5. **Accuracy Estimation Setup:** Configure the parameters used for accuracy estimation.\n",
    "6. **Dataset Splitting:** Create a sampled dataset (using anchors) and a test set.\n",
    "7. **Merger Definition:** Define the merger (using, for example, `SlerpMerger`).\n",
    "8. **Problem Definition:** Wrap the merging process in an optimization problem (`AnchoredCrossLingualMathProblem`).\n",
    "9. **Algorithm Setup:** Define a Genetic Algorithm (GA) with appropriate operators.\n",
    "10. **Searcher and Execution:** Run the evolutionary search and test the merged model.\n",
    "\n",
    "Let's get started!"
   ]
  },
  {
   "cell_type": "code",
   "execution_count": 11,
   "id": "84a39b67-9113-4331-a134-2e46d3a3cf80",
   "metadata": {},
   "outputs": [
    {
     "name": "stdout",
     "output_type": "stream",
     "text": [
      "Modules imported successfully.\n"
     ]
    }
   ],
   "source": [
    "# Step 0: Import required modules\n",
    "import sys\n",
    "from pymoo.algorithms.soo.nonconvex.ga import GA\n",
    "from pymoo.operators.crossover.sbx import SBX\n",
    "from pymoo.operators.mutation.pm import PM\n",
    "from pymoo.operators.repair.rounding import RoundingRepair\n",
    "from pymoo.operators.sampling.rnd import IntegerRandomSampling\n",
    "\n",
    "from mergenetic import PROJECT_ROOT\n",
    "from mergenetic.evaluation import *\n",
    "from mergenetic.utils import *\n",
    "from mergenetic.merging.merger import *\n",
    "from mergenetic.merging import SlerpMerger, TiesDareMerger\n",
    "import argparse\n",
    "import pandas as pd\n",
    "from mergenetic.optimization import MergingProblem, ConfigCrossLingual, ConfigMultiLingual, AnchoredCrossLingualMathProblem\n",
    "from mergenetic.searcher import Searcher\n",
    "from dataclasses import dataclass\n",
    "import yaml\n",
    "import pickle\n",
    "#from end2end_utils import *\n",
    "\n",
    "print('Modules imported successfully.')"
   ]
  },
  {
   "cell_type": "markdown",
   "id": "1c7504d9-0bbd-4cfd-975a-02f59b5e371a",
   "metadata": {},
   "source": [
    "## Configuration Setup\n",
    "\n",
    "As with any experiment, you need a configuration. In a script you might load a YAML file or use command-line arguments. Here, we define a sample configuration dictionary (which is then used to create a `ConfigCrossLingual` object). Adjust the paths and parameters as needed."
   ]
  },
  {
   "cell_type": "code",
   "execution_count": 12,
   "id": "4d6dfb45-fd14-41cb-b9b0-cd4412e4a3df",
   "metadata": {},
   "outputs": [],
   "source": [
    "config = ConfigCrossLingual(\n",
    "    pop_size=1,  # int\n",
    "    n_iter=1,  # int\n",
    "    tb_data_path=\"/leonardo_work/IscrC_MGNTC/tmencatt/mergenetic/experiments/tb_data/tinybenchmark_20_420.pickle\",  # str\n",
    "    thetas_paths=[  # List[str]\n",
    "        \"/leonardo_work/IscrC_MGNTC/tmencatt/mergenetic/experiments/evolutionary-merging/romanian_math/results/ft_ro_theta.pkl\",\n",
    "        \"/leonardo_work/IscrC_MGNTC/tmencatt/mergenetic/experiments/evolutionary-merging/romanian_math/results/metamath_ro_theta.pkl\"\n",
    "    ],\n",
    "    ft_model_paths=[\n",
    "        \"/leonardo_work/IscrC_MGNTC/tmencatt/mergenetic/models/base/OpenLLM-Ro/RoMistral-7b-Instruct\",\n",
    "        \"/leonardo_work/IscrC_MGNTC/tmencatt/mergenetic/models/base/meta-math/MetaMath-Mistral-7B\"\n",
    "    ],\n",
    "    path_to_store_merged_model=\"/leonardo_work/IscrC_MGNTC/tmencatt/mergenetic/experiments/models/merged/\",  # str\n",
    "    path_to_store_yaml=\"/leonardo_work/IscrC_MGNTC/tmencatt/mergenetic/experiments/evolutionary-merging/romanian_math/\",  # str\n",
    "    dtype=\"float16\",  # str\n",
    "    run_id=\"romanian_math_gmpirt\",  # str\n",
    "    dataset_path=\"/leonardo_work/IscrC_MGNTC/tmencatt/mergenetic/data/new_datasets/gsm8k/gsm8k_test_romanian.csv\",  # str\n",
    "    bench=\"gsm8k\",  # str\n",
    "    mode=\"gmpirt\",  # str\n",
    "    seed=420,  # int\n",
    "\n",
    "    # Optional parameters\n",
    "    device=\"cuda:0\",  # str | None\n",
    "\n",
    "    # Optional Extraction parameters\n",
    "    n_clusters=20,  # int, default=0\n",
    "\n",
    "    # Optional Evaluation parameters\n",
    "    ft_model_to_evaluate=[\"\", \"\"],  # List[str], default=[]\n",
    "    eval_task=\"MATH\",  # str, default=\"\"\n",
    "    output_path_evaluation=[\"\", \"\"],  # List[str], default=[]\n",
    "    eval_batch_size=64,  # int, default=8\n",
    "\n",
    "    # Optional Theta Estimation parameters\n",
    "    responses_path=[\"\", \"\"],  # List[str], default=[]\n",
    "    output_path_theta_estimation=[  # List[str], default=[]\n",
    "        \"/leonardo_work/IscrC_MGNTC/tmencatt/mergenetic/experiments/evolutionary-merging/results/ft_ro_theta.pkl\",\n",
    "        \"/leonardo_work/IscrC_MGNTC/tmencatt/mergenetic/experiments/evolutionary-merging/results/metamath_ro_theta.pkl\"\n",
    "    ]\n",
    ")\n"
   ]
  },
  {
   "cell_type": "markdown",
   "id": "7af72e2d-5cb8-46f0-918e-1564d2e2e47a",
   "metadata": {},
   "source": [
    "## Step 2: Load the Data\n",
    "\n",
    "We load the dataset using `pandas`. Ensure the CSV file exists at the specified path."
   ]
  },
  {
   "cell_type": "code",
   "execution_count": 13,
   "id": "e5dff481-9f8c-4d93-9e0e-7f668eb12207",
   "metadata": {},
   "outputs": [
    {
     "name": "stdout",
     "output_type": "stream",
     "text": [
      "STEP 1 completed: Data loaded\n",
      "Data shape: (1319, 2)\n"
     ]
    }
   ],
   "source": [
    "# Load the dataset\n",
    "df = pd.read_csv(config.dataset_path)\n",
    "print(\"STEP 1 completed: Data loaded\")\n",
    "print(f\"Data shape: {df.shape}\")"
   ]
  },
  {
   "cell_type": "markdown",
   "id": "da5e5b86-581f-4f5a-bf4e-70161e6e97ec",
   "metadata": {},
   "source": [
    "## Step 3: Extract Random Anchor Points\n",
    "\n",
    "We sample anchor points from the dataset. These anchors will be used to estimate model performance."
   ]
  },
  {
   "cell_type": "code",
   "execution_count": 14,
   "id": "404d86d3-7ad7-4a6a-9a41-6f8ab6b1f7f9",
   "metadata": {},
   "outputs": [
    {
     "name": "stdout",
     "output_type": "stream",
     "text": [
      "STEP 2 completed: Anchors extracted\n",
      "Anchors: [594, 153, 384, 679, 43, 562, 1030, 48, 890, 311, 493, 837, 669, 505, 45, 340, 1115, 474, 454, 1089]\n"
     ]
    }
   ],
   "source": [
    "# Extract random anchor points\n",
    "anchors = df.sample(n=config.n_clusters, random_state=config.seed).index\n",
    "anchors_weights = (1.0 * np.ones(len(anchors))) / len(anchors)\n",
    "\n",
    "print(\"STEP 2 completed: Anchors extracted\")\n",
    "print(f\"Anchors: {anchors.tolist()}\")"
   ]
  },
  {
   "cell_type": "markdown",
   "id": "3b76d5b1-d2c0-4503-a05b-986c2b46c0ab",
   "metadata": {},
   "source": [
    "## Step 4: Evaluate Base Models\n",
    "\n",
    "This step calls `evaluate_model()` to obtain predictions from the base models. These predictions are used later in the merging process."
   ]
  },
  {
   "cell_type": "code",
   "execution_count": 15,
   "id": "becdb79b-0533-4ec8-8fbc-7fc1e2ef9c9d",
   "metadata": {},
   "outputs": [
    {
     "name": "stdout",
     "output_type": "stream",
     "text": [
      "# Evaluation configuration:  ConfigCrossLingual(pop_size=1, n_iter=1, tb_data_path='/leonardo_work/IscrC_MGNTC/tmencatt/mergenetic/experiments/tb_data/tinybenchmark_20_420.pickle', thetas_paths=['/leonardo_work/IscrC_MGNTC/tmencatt/mergenetic/experiments/evolutionary-merging/romanian_math/results/ft_ro_theta.pkl', '/leonardo_work/IscrC_MGNTC/tmencatt/mergenetic/experiments/evolutionary-merging/romanian_math/results/metamath_ro_theta.pkl'], ft_model_paths=['/leonardo_work/IscrC_MGNTC/tmencatt/mergenetic/models/base/OpenLLM-Ro/RoMistral-7b-Instruct', '/leonardo_work/IscrC_MGNTC/tmencatt/mergenetic/models/base/meta-math/MetaMath-Mistral-7B'], path_to_store_merged_model='/leonardo_work/IscrC_MGNTC/tmencatt/mergenetic/experiments/models/merged/', path_to_store_yaml='/leonardo_work/IscrC_MGNTC/tmencatt/mergenetic/experiments/evolutionary-merging/romanian_math/', dtype='float16', run_id='romanian_math_gmpirt', dataset_path='/leonardo_work/IscrC_MGNTC/tmencatt/mergenetic/data/new_datasets/gsm8k/gsm8k_test_romanian.csv', bench='gsm8k', mode='gmpirt', seed=420, device='cuda:0', pca_dim=0, n_clusters=20, output_path_anchor_points='', extraction_task='', ft_model_to_evaluate=['', ''], eval_task='MATH', output_path_evaluation=['', ''], eval_batch_size=64, responses_path=['', ''], output_path_theta_estimation=['/leonardo_work/IscrC_MGNTC/tmencatt/mergenetic/experiments/evolutionary-merging/results/ft_ro_theta.pkl', '/leonardo_work/IscrC_MGNTC/tmencatt/mergenetic/experiments/evolutionary-merging/results/metamath_ro_theta.pkl'], custom_prompt_template='')\n",
      "STEP 3 completed: Predictions obtained\n"
     ]
    }
   ],
   "source": [
    "# Evaluate base models to get predictions\n",
    "predictions = evaluate_model(config)\n",
    "print(\"STEP 3 completed: Predictions obtained\")"
   ]
  },
  {
   "cell_type": "markdown",
   "id": "3c684a8b-7c7c-4bf8-9a78-20a686acb234",
   "metadata": {},
   "source": [
    "## Step 5: Retrieve the Thetas\n",
    "\n",
    "The latent ability parameters (thetas) are obtained using `retrieve_thetas()`. These parameters will be used in the accuracy estimation."
   ]
  },
  {
   "cell_type": "code",
   "execution_count": 16,
   "id": "5a576ac4-dedb-4b81-888a-3f3f34a24831",
   "metadata": {},
   "outputs": [
    {
     "name": "stdout",
     "output_type": "stream",
     "text": [
      "STEP 4 completed: Thetas obtained\n"
     ]
    }
   ],
   "source": [
    "# Retrieve the thetas\n",
    "thetas = retrieve_thetas(config)\n",
    "print(\"STEP 4 completed: Thetas obtained\")"
   ]
  },
  {
   "cell_type": "markdown",
   "id": "6c8c1cda-0366-4e4a-9ac0-52570bd0d92d",
   "metadata": {},
   "source": [
    "## Step 6: Set Accuracy Estimation Parameters\n",
    "\n",
    "We unpack key parameters and set up the accuracy estimation parameters using `AccuracyEstimationParameters`."
   ]
  },
  {
   "cell_type": "code",
   "execution_count": 17,
   "id": "cf09e34a-5368-4ef1-bf5b-c00df65f350f",
   "metadata": {},
   "outputs": [
    {
     "name": "stdout",
     "output_type": "stream",
     "text": [
      "STEP 5 completed: Accuracy estimation parameters set\n"
     ]
    }
   ],
   "source": [
    "# Unpack parameters and set accuracy estimation parameters\n",
    "pop_size = config.pop_size\n",
    "n_iter = config.n_iter\n",
    "run_id = config.run_id\n",
    "bench = config.bench\n",
    "mode = config.mode\n",
    "\n",
    "est_parameters = AccuracyEstimationParameters(\n",
    "    thetas=thetas, \n",
    "    sample_weights=anchors_weights, \n",
    "    sample_ids=anchors, \n",
    "    bench=bench, \n",
    "    mode=mode\n",
    ")\n",
    "\n",
    "print(\"STEP 5 completed: Accuracy estimation parameters set\")"
   ]
  },
  {
   "cell_type": "markdown",
   "id": "f46c4e9f-9400-4d7f-a5c4-286b25e05f4e",
   "metadata": {},
   "source": [
    "## Step 7: Split the Data\n",
    "\n",
    "We create the sampled dataset using the anchor indices and define the test set by removing the anchors."
   ]
  },
  {
   "cell_type": "code",
   "execution_count": 18,
   "id": "2bfae072-0d3d-4d1c-a3e8-1877d29b1b34",
   "metadata": {},
   "outputs": [
    {
     "name": "stdout",
     "output_type": "stream",
     "text": [
      "STEP 6 completed: Samples extracted\n",
      "Sampled data shape: (20, 2)\n",
      "Test data shape: (1299, 2)\n"
     ]
    }
   ],
   "source": [
    "# Create sampled and test sets\n",
    "sampled_df = df.loc[anchors].copy()\n",
    "test_df = df.drop(anchors)\n",
    "\n",
    "print(\"STEP 6 completed: Samples extracted\")\n",
    "print(f\"Sampled data shape: {sampled_df.shape}\")\n",
    "print(f\"Test data shape: {test_df.shape}\")"
   ]
  },
  {
   "cell_type": "markdown",
   "id": "b5bfc7f1-5b5a-4d74-8b15-13a6d20d0c16",
   "metadata": {},
   "source": [
    "## Step 8: Define the Merger\n",
    "\n",
    "We now define the merger. In this example, we use the `SlerpMerger`, passing in the base model and a finetuned model, as well as other necessary parameters such as layer ranges and paths to store configurations and merged models."
   ]
  },
  {
   "cell_type": "code",
   "execution_count": 19,
   "id": "8270b9ea-c75b-4f7e-bc2e-f03c9e6dd5ad",
   "metadata": {},
   "outputs": [
    {
     "name": "stdout",
     "output_type": "stream",
     "text": [
      "STEP 7 completed: Merger defined\n"
     ]
    }
   ],
   "source": [
    "# Define the merger\n",
    "merger = SlerpMerger(\n",
    "    run_id=run_id,\n",
    "    path_to_base_model=config.ft_model_paths[0],\n",
    "    path_to_model_1=config.ft_model_paths[1],\n",
    "    path_to_store_yaml=config.path_to_store_yaml,\n",
    "    path_to_store_merged_model=config.path_to_store_merged_model,\n",
    "    dtype=config.dtype,\n",
    "    layer_range_base_model=[0, 32],\n",
    "    layer_range_model_1=[0, 32]\n",
    ")\n",
    "\n",
    "device = config.device if config.device else 'cuda'\n",
    "print(\"STEP 7 completed: Merger defined\")"
   ]
  },
  {
   "cell_type": "markdown",
   "id": "fb70e541-376e-4e8b-8e74-0f4d1c4f6318",
   "metadata": {},
   "source": [
    "## Step 9: Define the Optimization Problem\n",
    "\n",
    "Next, we wrap the merging operation into an optimization problem using `AnchoredCrossLingualMathProblem`. This problem takes the sampled data, test set, merger, and evaluation settings. We then set the accuracy estimation parameters for the problem."
   ]
  },
  {
   "cell_type": "code",
   "execution_count": 20,
   "id": "e2120c4d-b3f3-43e7-a06d-42e7d5a4d441",
   "metadata": {},
   "outputs": [
    {
     "name": "stdout",
     "output_type": "stream",
     "text": [
      "STEP 8 completed: Problem defined\n"
     ]
    }
   ],
   "source": [
    "# Define the problem\n",
    "problem = AnchoredCrossLingualMathProblem(\n",
    "    merger,\n",
    "    sampled_df,\n",
    "    test_df=test_df,\n",
    "    n_var=11,\n",
    "    n_obj=1,\n",
    "    n_eq_constr=0,\n",
    "    n_ieq_constr=0,\n",
    "    discrete=True,\n",
    "    eval_batch_size=64,\n",
    "    device=device\n",
    ")\n",
    "\n",
    "problem.set_est_parameters(est_parameters)\n",
    "print(\"STEP 8 completed: Problem defined\")"
   ]
  },
  {
   "cell_type": "markdown",
   "id": "2f418e9d-42a7-4b48-8d31-817f6b92c770",
   "metadata": {},
   "source": [
    "## Step 10: Define the Evolutionary Algorithm\n",
    "\n",
    "We set up a Genetic Algorithm (GA) using a random integer sampling method, SBX crossover, and polynomial mutation. Duplicate solutions are eliminated."
   ]
  },
  {
   "cell_type": "code",
   "execution_count": 21,
   "id": "4f30fa3c-34dd-4e5c-9775-2b283c78e9c7",
   "metadata": {},
   "outputs": [
    {
     "name": "stdout",
     "output_type": "stream",
     "text": [
      "STEP 9 completed: Algorithm defined\n"
     ]
    }
   ],
   "source": [
    "# Define the evolutionary algorithm\n",
    "algorithm = GA(\n",
    "    pop_size=pop_size,\n",
    "    sampling=IntegerRandomSampling(),\n",
    "    crossover=SBX(),\n",
    "    mutation=PM(),\n",
    "    eliminate_duplicates=True\n",
    ")\n",
    "\n",
    "print(\"STEP 9 completed: Algorithm defined\")"
   ]
  },
  {
   "cell_type": "markdown",
   "id": "cf5b20a9-0546-4020-b935-1f78e61f1184",
   "metadata": {},
   "source": [
    "## Step 11: Run the Evolutionary Search\n",
    "\n",
    "Finally, we define a `Searcher` object with the problem, algorithm, and result path. The search is executed over the specified number of iterations, and then the best merged model is tested."
   ]
  },
  {
   "cell_type": "code",
   "execution_count": 23,
   "id": "1a5336ae-b066-4cbd-8ab9-cdff966dd827",
   "metadata": {},
   "outputs": [
    {
     "name": "stdout",
     "output_type": "stream",
     "text": [
      "yaml configuration file created at /leonardo_work/IscrC_MGNTC/tmencatt/mergenetic/experiments/evolutionary-merging/romanian_math/romanian_math_gmpirt/config.yaml\n",
      "Deleted folder and all contents: /leonardo_work/IscrC_MGNTC/tmencatt/mergenetic/experiments/models/merged/romanian_math_gmpirt\n"
     ]
    },
    {
     "name": "stderr",
     "output_type": "stream",
     "text": [
      "Warmup loader cache: 100%|██████████| 2/2 [00:00<00:00, 18682.87it/s]\n",
      "Executing graph:   0%|          | 0/1457 [00:00<?, ?it/s]WARNING:root:Using common submatrix of size torch.Size([32000, 4096]) for lm_head.weight\n",
      "Executing graph:   0%|          | 5/1457 [00:02<13:48,  1.75it/s]WARNING:root:Using common submatrix of size torch.Size([32000, 4096]) for model.embed_tokens.weight\n",
      "Executing graph: 100%|██████████| 1457/1457 [03:34<00:00,  6.79it/s]\n"
     ]
    },
    {
     "name": "stdout",
     "output_type": "stream",
     "text": [
      "Loading model from: /leonardo_work/IscrC_MGNTC/tmencatt/mergenetic/experiments/models/merged/romanian_math_gmpirt\n"
     ]
    },
    {
     "name": "stderr",
     "output_type": "stream",
     "text": [
      "Loading checkpoint shards: 100%|██████████| 3/3 [00:19<00:00,  6.48s/it]\n",
      "Processing batches:   0%|          | 0/1 [00:00<?, ?it/s]Setting `pad_token_id` to `eos_token_id`:2 for open-end generation.\n"
     ]
    },
    {
     "name": "stdout",
     "output_type": "stream",
     "text": [
      "# First question after processing:  Question: O cupă de păsarii pese 100 de grame și conține 3 de grame de proteine. Dacă John mănănește 200 de grame de păsarii pe zi, în cea ce privează proteine, câștigă în cea ce privează proteine pe săptămână?.\n",
      "Answer:\n"
     ]
    },
    {
     "name": "stderr",
     "output_type": "stream",
     "text": [
      "Processing batches: 100%|██████████| 1/1 [00:37<00:00, 37.45s/it]"
     ]
    },
    {
     "name": "stdout",
     "output_type": "stream",
     "text": [
      "Prompt: Question: O cupă de păsarii pese 100 de grame și conține 3 de grame de proteine. Dacă John mănănește 200 de grame de păsarii pe zi, în cea ce privează proteine, câștigă în cea ce privează proteine pe săptămână?.\n",
      "Answer:\n",
      "Answer: Question: O cupă de păsarii pese 100 de grame și conține 3 de grame de proteine. Dacă John mănănește 200 de grame de păsarii pe zi, în cea ce privează proteine, câștigă în cea ce privează proteine pe săptămână?.\n",
      "Answer: John mănâncă 200 de grame de păsări pe zi, astfel într-o săptămână mănâncă 200 * 7 = 1400 de grame de păsări.\n",
      "O cupă de păsări conține 3 de grame de proteine, astfel într-o săptămână John consumă 1400 / 100 * 3 = 42 de grame de proteine.\n",
      "Câștigă în cea ce privește proteinele pe săptămână cu 42 - 3 = 39 de grame.\n",
      "#### 39\n",
      "The answer is: 39\n",
      "---\n",
      "Prompt: Question: Dave a cumpărat un mare pacșet de frituri și le-a mâncat 14 până când un păstrăv foarte mic l-a luat din mână. Când păstrăvul a aterizat, el a mânachit jumătate din numărul de frituri mâncate de Dave. Apoi, trei pătrăți l-au forțat să se înălțe de la mâncare, și fiecare pătrăț a mânachit trei frite. Ulterior, un vulpeț l-a luat două treimi din restul de frite. Formichele l-au luat ultima fritură, lăsând cinci în urmă. Numărul de frite în pacșet când Dave l-a cumpărat?.\n",
      "Answer:\n",
      "Answer: Question: Dave a cumpărat un mare pacșet de frituri și le-a mâncat 14 până când un păstrăv foarte mic l-a luat din mână. Când păstrăvul a aterizat, el a mânachit jumătate din numărul de frituri mâncate de Dave. Apoi, trei pătrăți l-au forțat să se înălțe de la mâncare, și fiecare pătrăț a mânachit trei frite. Ulterior, un vulpeț l-a luat două treimi din restul de frite. Formichele l-au luat ultima fritură, lăsând cinci în urmă. Numărul de frite în pacșet când Dave l-a cumpărat?.\n",
      "Answer: Dave a mâncat 14 frituri, iar păstrăvul a mânachit jumătate din numărul de frituri mâncate de Dave, ceea ce înseamnă că păstrăvul a mânachit 14/2 = 7 frituri.\n",
      "După ce păstrăvul a mânachit, restul de frituri a fost 14 - 7 = 7 frituri.\n",
      "Trei pătrăți l-au forțat să se înălțe de la mâncare, și fiecare pătrăț a mânachit trei frite, ceea ce înseamnă că pătrății au mânachit 3 * 3 = 9 frituri.\n",
      "După ce pătrății au mânachit, restul de frituri a fost 7 - 9 = -2 frituri.\n",
      "Un vulpeț l-a luat două treimi din restul de frite, ceea ce înseamnă că vulpețul a luat 2/3 * (-2) = -4/3 frituri.\n",
      "După ce vulpețul a luat, restul de frituri a fost -2 - (-4/3) = -2 + 4/3 = -6/3 + 4/3 = -2/3 frituri.\n",
      "Formichele l-au luat ultima fritură, lăsând cinci în urmă, ceea ce înseamnă că formichele au luat -2/3 + 5 = 2/3 + 5 = 5 1/3 frituri.\n",
      "Numărul de frite în pacșet când Dave l-a cumpărat a fost 14 + 7 + 9 + (-2/3) + 5 1/3 = 35 1/3 frituri.\n",
      "#### 35\n",
      "The answer is: 35\n",
      "---\n",
      "Prompt: Question: Ruther a vândut 3/5 din terenul său și a rămas cu 12,8 hectare. Cât de teren avea în primul rând?.\n",
      "Answer:\n",
      "Answer: Question: Ruther a vândut 3/5 din terenul său și a rămas cu 12,8 hectare. Cât de teren avea în primul rând?.\n",
      "Answer: Dacă Ruther a vândut 3/5 din terenul său și a rămas cu 12,8 hectare, atunci terenul său inițial trebuie să fi fost 12,8 / (1 - 3/5) = 12,8 / (2/5) = 12,8 * (5/2) = 32 hectare.\n",
      "Astfel, Ruther avea inițial 32 hectare de teren.\n",
      "---\n",
      "Prompt: Question: Dacă 6 de cartofi fac 36 de frită de cartofi, cu numărul de 96 de cartofi, cu ce număr de frită de cartofi paiți?.\n",
      "Answer:\n",
      "Answer: Question: Dacă 6 de cartofi fac 36 de frită de cartofi, cu numărul de 96 de cartofi, cu ce număr de frită de cartofi paiți?.\n",
      "Answer: Dacă 6 de cartofi fac 36 de frită de cartofi, atunci 1 cartofi face 36/6 = 6 frită de cartofi.\n",
      "Cu 96 de cartofi, paiți vor avea 96 * 6 = 576 frită de cartofi.\n",
      "---\n",
      "Prompt: Question: Conform faptei nutriționale, un sac de făină de mașina are 250 de calorii pe porție. Dacă un sac de 300 g are 5 porții, cu ce începeți a mânca dacă obiettivo diară di calorie este de 2000 și au consumat deja 1800 calorii?\n",
      "Answer:\n",
      "Answer: Question: Conform faptei nutriționale, un sac de făină de mașina are 250 de calorii pe porție. Dacă un sac de 300 g are 5 porții, cu ce începeți a mânca dacă obiettivo diară di calorie este de 2000 și au consumat deja 1800 calorii?\n",
      "Answer: Un sac de 300 g de făină de mașină are 5 porții, fiecare porție având 250 calorii.\n",
      "Astfel, un sac de 300 g conține 5 x 250 = 1250 calorii.\n",
      "Dacă obiectivul caloric zilnic este de 2000 calorii și au consumat deja 1800 calorii, atunci au rămas 2000 - 1800 = 200 calorii.\n",
      "Deoarece un sac de 300 g de făină de mașină conține 1250 calorii, nu este posibil să se mănânce un sac întreg, deoarece ar depăși obiectivul caloric zilnic.\n",
      "Cu toate acestea, o parte dintr-un sac de făină de mașină poate fi consumată, de exemplu, 1/4 dintr-un sac, care este echivalent cu 1/4 x 1250 = 312,5 calorii.\n",
      "Astfel, dacă au consumat deja 1800 calorii și au rămas 200 calorii, atunci pot mânca 312,5 calorii dintr-un sac de făină de mașină.\n",
      "Aceasta înseamnă că pot mânca 312,5 / 250 = 1,25 porții dintr-un sac de făină de mașină.\n",
      "Deoarece un sac de 300 g are 5 porții, atunci pot mânca 1,25 x 5 = 6,25 g de făină de mașină.\n",
      "Din acest motiv, începeți a mânca 6,25 g de făină de mașină.\n",
      "---\n",
      "Prompt: Question: Piramidele mari se află la un unghi de 32 degrade de la pământ, în momentul în care se află la intrarea casei lui Sahir. Solele se mișcă la o viteză de 5 degrade/ora, în direcția sus, de la piramidă, în raport cu casa lui Sahir. Dacă soarele începe la vârful piramidei și se mișcă pentru 10 ore, la numărul de degrade de la pământ la soarele?.\n",
      "Answer:\n",
      "Answer: Question: Piramidele mari se află la un unghi de 32 degrade de la pământ, în momentul în care se află la intrarea casei lui Sahir. Solele se mișcă la o viteză de 5 degrade/ora, în direcția sus, de la piramidă, în raport cu casa lui Sahir. Dacă soarele începe la vârful piramidei și se mișcă pentru 10 ore, la numărul de degrade de la pământ la soarele?.\n",
      "Answer: Soarele se mișcă la o viteză de 5 degrade/ora, și se mișcă pentru 10 ore, astfel încât se mișcă 5 * 10 = 50 degrade.\n",
      "Piramidele mari se află la un unghi de 32 degrade de la pământ, astfel încât soarele se află la 32 + 50 = 82 degrade de la pământ.\n",
      "Numărul de degrade de la pământ la soarele este de 82.\n",
      "#### 82\n",
      "The answer is: 82\n",
      "---\n",
      "Prompt: Question: Marcus încearcă să se hotărească dacă are nevoie să termine cu lucrul de casă. Există 50% de probabilitate că mâine va avea un înlocuitor care nu va culege lucrul de casă. Așa că, chiar dacă va veni profesorul normal, există 40% de probabilitate că i-a va da întreaga clase o prorogare. Așa că, chiar dacă întreaga clase nu va beneficia de o prorogare, există 20% de probabilitate că Marcus va reuși să-i convina profesorului că câinele lui a mâinuit lucrul de casă și să-i câștige o prorogare personală. Ce este probabilitatea că Marcus va efectiv fi forțat să înapoie lucrul de casă mâine?.\n",
      "Answer:\n",
      "Answer: Question: Marcus încearcă să se hotărească dacă are nevoie să termine cu lucrul de casă. Există 50% de probabilitate că mâine va avea un înlocuitor care nu va culege lucrul de casă. Așa că, chiar dacă va veni profesorul normal, există 40% de probabilitate că i-a va da întreaga clase o prorogare. Așa că, chiar dacă întreaga clase nu va beneficia de o prorogare, există 20% de probabilitate că Marcus va reuși să-i convina profesorului că câinele lui a mâinuit lucrul de casă și să-i câștige o prorogare personală. Ce este probabilitatea că Marcus va efectiv fi forțat să înapoie lucrul de casă mâine?.\n",
      "Answer: Există 50% de probabilitate că Marcus nu va avea un înlocuitor care nu va culege lucrul de casă.\n",
      "Dacă Marcus nu are un înlocuitor, există 40% de probabilitate că i-a va da întreaga clase o prorogare.\n",
      "Dacă întreaga clase nu va beneficia de o prorogare, există 20% de probabilitate că Marcus va reuși să-i câștige o prorogare personală.\n",
      "Pentru a găsi probabilitatea că Marcus va fi forțat să înapoie lucrul de casă, trebuie să găsim probabilitatea complementară a faptului că Marcus nu va fi forțat să înapoie lucrul de casă.\n",
      "Probabilitatea complementară este 1 - probabilitatea.\n",
      "Probabilitatea că Marcus va fi forțat să înapoie lucrul de casă este 1 - (1 - 0.5) * (1 - 0.4) * (1 - 0.2) = 1 - 0.5 * 0.6 * 0.8 = 1 - 0.24 = 0.76.\n",
      "Așadar, probabilitatea că Marcus va efectiv fi forțat să înapoie lucrul de casă mâine este de 0.76.\n",
      "#### 0.76\n",
      "The answer is: 0.76\n",
      "---\n",
      "Prompt: Question: Tracy a folosit un pătrund de 1,2 m lung pentru a susține plantele de tomate în grădină. El a fost încălzit în părți de 15 cm lung. Numărul de părți obținute este\n",
      "Answer:\n",
      "Answer: Question: Tracy a folosit un pătrund de 1,2 m lung pentru a susține plantele de tomate în grădină. El a fost încălzit în părți de 15 cm lung. Numărul de părți obținute este\n",
      "Answer: Lungimea totală a pătrundului este de 1,2 m.\n",
      "Lungimea părților încălzite este de 15 cm.\n",
      "Pentru a găsi numărul de părți, trebuie să împărțim lungimea totală la lungimea fiecărei părți:\n",
      "1,2 m / 0,15 m = 8 părți\n",
      "Numărul de părți obținute este de 8.\n",
      "---\n",
      "Prompt: Question: În grădina doamnei Smith există 100 de plante. O fiertă din plantele ei sunt plante interioare. Două treimi din plantele rămase sunt plantele de exterior, iar restul sunt plante florale. Câtul percentaj de plante sunt plante florale?\n",
      "Answer:\n",
      "Answer: Question: În grădina doamnei Smith există 100 de plante. O fiertă din plantele ei sunt plante interioare. Două treimi din plantele rămase sunt plantele de exterior, iar restul sunt plante florale. Câtul percentaj de plante sunt plante florale?\n",
      "Answer: Dintre cele 100 de plante, două treimi sunt plante de exterior, ceea ce înseamnă 100 * (2/3) = 66 plante de exterior.\n",
      "Restul de plante sunt plante interioare și plante florale, ceea ce înseamnă 100 - 66 = 34 plante.\n",
      "Din aceste 34 plante, câtul percentaj de plante sunt plante florale?\n",
      "Câtul percentaj de plante florale este (34 / 100) * 100 = 34%.\n",
      "Astfel, 34% din plantele din grădina doamnei Smith sunt plante florale.\n",
      "---\n",
      "Prompt: Question: Într-o familie de 5 persoane, trei oameni mănâncă trei ouă pe zi, în timp ce restul mănâncă două ouă pe zi. Dacă mănâncă ouă în fiecare zi, numărul de ouă consumate de întreaga familie într-una săptămână este\n",
      "Answer:\n",
      "Answer: Question: Într-o familie de 5 persoane, trei oameni mănâncă trei ouă pe zi, în timp ce restul mănâncă două ouă pe zi. Dacă mănâncă ouă în fiecare zi, numărul de ouă consumate de întreaga familie într-una săptămână este\n",
      "Answer: Într-o familie de 5 persoane, trei oameni mănâncă trei ouă pe zi, în timp ce restul mănâncă două ouă pe zi.\n",
      "\n",
      "Trei oameni mănâncă trei ouă pe zi, așa că consumă 3 * 3 = 9 ouă pe zi.\n",
      "Restul de doi oameni mănâncă două ouă pe zi, așa că consumă 2 * 2 = 4 ouă pe zi.\n",
      "În total, familia consumă 9 + 4 = 13 ouă pe zi.\n",
      "\n",
      "Într-o săptămână, care are 7 zile, familia consumă 13 * 7 = 91 ouă.\n",
      "\n",
      "Numărul de ouă consumate de întreaga familie într-una săptămână este 91.\n",
      "#### 91\n",
      "The answer is: 91\n",
      "---\n",
      "Prompt: Question: Gatjanii lui Heather au un preț de 4 $/pack și au 4 într-un pack. În momentul acesta, sunt în promoție, cu unul gratuit pentru fiecare cumpărat. Ea are și un coupon de 2 $. Cu ce valoare se va mărirea de 2 $/pack, după oferta, dacă ea cumpără 2 packuri de gatjani?.\n",
      "Answer:\n",
      "Answer: Question: Gatjanii lui Heather au un preț de 4 $/pack și au 4 într-un pack. În momentul acesta, sunt în promoție, cu unul gratuit pentru fiecare cumpărat. Ea are și un coupon de 2 $. Cu ce valoare se va mărirea de 2 $/pack, după oferta, dacă ea cumpără 2 packuri de gatjani?.\n",
      "Answer: Fiecare pack de gatjani costă 4 $, iar în promoție, unul este gratuit pentru fiecare cumpărat. Așadar, cumpărând 2 packuri, ea va plăti doar pentru 1 pack.\n",
      "Couponul de 2 $ va fi aplicat la prețul de 4 $, astfel încât prețul final va fi 4 - 2 = 2 $.\n",
      "Dacă ea cumpără 2 packuri de gatjani, valoarea totală a achiziției sale va fi 2 * 2 = 4 $.\n",
      "După oferta, prețul de 2 $/pack va fi aplicat, astfel încât valoarea totală a achiziției sale va fi 4 * 2 = 8 $.\n",
      "Diferența de valoare este de 8 - 4 = 4 $.\n",
      "Astfel, valoarea de 2 $/pack va fi mărită cu 4 $.\n",
      "#### 4\n",
      "The answer is: 4\n",
      "---\n",
      "Prompt: Question: Erika economize pentru un laptop nou. Laptopul pe care dorește sălășlăște la 600$. Vânzătorul i-a spus că, dacă vând laptopul vechiul, prețul laptopului nou se reduce cu 200$. Erika consideră că este o ofertă bună și aceasta aceasta. Erika deja avea câștiguri în buzunar și a fost plătită 150$ în acea săptămână pentru munca de parte-time. Mama ei este de acord să-i dea 80$ pentru a ajuta-o. Dacă Erika are acum doar 50$ în plus pentru a cumpăra laptopul, ce amănțimează în buzunar?\n",
      "Answer:\n",
      "Answer: Question: Erika economize pentru un laptop nou. Laptopul pe care dorește sălășlăște la 600$. Vânzătorul i-a spus că, dacă vând laptopul vechiul, prețul laptopului nou se reduce cu 200$. Erika consideră că este o ofertă bună și aceasta aceasta. Erika deja avea câștiguri în buzunar și a fost plătită 150$ în acea săptămână pentru munca de parte-time. Mama ei este de acord să-i dea 80$ pentru a ajuta-o. Dacă Erika are acum doar 50$ în plus pentru a cumpăra laptopul, ce amănțimează în buzunar?\n",
      "Answer: Erika economizează pentru un laptop nou, care costă 600$.\n",
      "Vânzătorul i-a spus că, dacă vând laptopul vechiul, prețul laptopului nou se reduce cu 200$.\n",
      "Erika consideră că este o ofertă bună și aceasta aceasta.\n",
      "Erika deja avea câștiguri în buzunar și a fost plătită 150$ în acea săptămână pentru munca de parte-time.\n",
      "Mama ei este de acord să-i dea 80$ pentru a ajuta-o.\n",
      "Dacă Erika are acum doar 50$ în plus pentru a cumpăra laptopul, ce amănțimează în buzunar?\n",
      "\n",
      "Erika a economisit 150$ + 80$ = 230$ pentru a cumpăra laptopul.\n",
      "Prețul laptopului nou se reduce cu 200$, astfel încât Erika trebuie să plătească 600$ - 200$ = 400$ pentru laptop.\n",
      "Erika are 230$ în buzunar, dar trebuie să plătească 400$, astfel încât ea are 400$ - 230$ = 170$ în plus pentru a cumpăra laptopul.\n",
      "\n",
      "#### 170\n",
      "The answer is: 170\n",
      "---\n",
      "Prompt: Question: Pentru fiecare muffin, Svetlana avea nevoie de 5 tablouri de farină, 3 tablouri de zahăr și 0,25 de tablou de sărăcină. Numărul de tablouri de ingrediente seche necesare pentru a prepara 16 muffins?.\n",
      "Answer:\n",
      "Answer: Question: Pentru fiecare muffin, Svetlana avea nevoie de 5 tablouri de farină, 3 tablouri de zahăr și 0,25 de tablou de sărăcină. Numărul de tablouri de ingrediente seche necesare pentru a prepara 16 muffins?.\n",
      "Answer: Pentru fiecare muffin, Svetlana avea nevoie de 5 tablouri de farină, 3 tablouri de zahăr și 0,25 de tablou de sărăcină.\n",
      "Pentru 16 muffins, Svetlana va avea nevoie de 16 * 5 = 80 tablouri de farină.\n",
      "Ea va avea nevoie de 16 * 3 = 48 tablouri de zahăr.\n",
      "Ea va avea nevoie de 16 * 0,25 = 4 tablouri de sărăcină.\n",
      "În total, Svetlana va avea nevoie de 80 + 48 + 4 = 132 tablouri de ingrediente seche.\n",
      "#### 132\n",
      "The answer is: 132\n",
      "---\n",
      "Prompt: Question: Frederick face parte dintr-o activitate de vânzare de popsicle și pentru a economisi bani, el face și săpunii de popsicle. El poate obține 200 săpunii dintr-un 2 x 4 și 400 săpunii dintr-un 2 x 8 de lemn. El are 24 $ pentru a cumpăra lemn pentru săpunii. Un 2 x 4 costă 4 $ și un 2 x 8 costă 6 $. Cât de multe săpunii el poate face dacă cumpără lemnul la prețul minim?\n",
      "Answer:\n",
      "Answer: Question: Frederick face parte dintr-o activitate de vânzare de popsicle și pentru a economisi bani, el face și săpunii de popsicle. El poate obține 200 săpunii dintr-un 2 x 4 și 400 săpunii dintr-un 2 x 8 de lemn. El are 24 $ pentru a cumpăra lemn pentru săpunii. Un 2 x 4 costă 4 $ și un 2 x 8 costă 6 $. Cât de multe săpunii el poate face dacă cumpără lemnul la prețul minim?\n",
      "Answer: Frederick are 24 $ pentru a cumpăra lemn.\n",
      "Un 2 x 4 costă 4 $, așa că Frederick poate cumpăra 24 / 4 = 6 2 x 4.\n",
      "Un 2 x 8 costă 6 $, așa că Frederick poate cumpăra 24 / 6 = 4 2 x 8.\n",
      "Din 6 2 x 4, Frederick poate face 6 x 200 = 1200 săpunii.\n",
      "Din 4 2 x 8, Frederick poate face 4 x 400 = 1600 săpunii.\n",
      "În total, Frederick poate face 1200 + 1600 = 2800 săpunii.\n",
      "#### 2800\n",
      "The answer is: 2800\n",
      "---\n",
      "Prompt: Question: Meredith este o blogger freelance care scrie despre teme de sănătate și care prezintă articole pentru clienți pe post de muncă permanentă. Un articol de blog are o durată medie de 4 ore de investigații și scris. În săptămâna trecută, ea a scris 5 articole pe lună și 2/5 articole în plus pe marti în comparație cu lună. Începutul săptămânii a fost mai produs, ea scris 2 articole în zi. Calculați numărul total de ore în care a scris articolele în cele trei zile.\n",
      "Answer:\n",
      "Answer: Question: Meredith este o blogger freelance care scrie despre teme de sănătate și care prezintă articole pentru clienți pe post de muncă permanentă. Un articol de blog are o durată medie de 4 ore de investigații și scris. În săptămâna trecută, ea a scris 5 articole pe lună și 2/5 articole în plus pe marti în comparație cu lună. Începutul săptămânii a fost mai produs, ea scris 2 articole în zi. Calculați numărul total de ore în care a scris articolele în cele trei zile.\n",
      "Answer: În săptămâna trecută, Meredith a scris 5 articole pe lună, ceea ce înseamnă 5 * 4 = 20 ore de investigații și scris.\n",
      "Pe marti, ea a scris 2/5 articole în plus, ceea ce înseamnă 2/5 * 5 = 2 articole în plus.\n",
      "Astfel, pe marti, ea a scris 5 + 2 = 7 articole.\n",
      "7 articole * 4 ore = 28 ore de investigații și scris pe marti.\n",
      "Începutul săptămânii a fost mai produs, ea scris 2 articole în zi.\n",
      "2 articole * 4 ore = 8 ore de investigații și scris în ziua de duminică.\n",
      "În total, ea a scris 20 + 28 + 8 = 56 ore de investigații și scris în cele trei zile.\n",
      "#### 56\n",
      "The answer is: 56\n",
      "---\n",
      "Prompt: Question: Josh a decis să învețe a jongler pentru a participa la un spectacol de talent în liceu, într-un an în viitor. El începe să practice jonglerie cu trei măinițe, și se îmbăta în timp ce adăuga o măiniță la actul său de jonglage în fiecare săptămână. După ce a terminat cu cea de-a patra săptămână, începe spectacolul de talent, dar când Josh se așază pe etajul, el se lovește și pierde trei măinițe. Două dintre ele sunt preseleți de oameni în audiențe, în timp ce una se pierde complet, deoarece audiențeul este întunecat. Josh începe să jongleze pe etajul cu numărul de măinițe?.\n",
      "Answer:\n",
      "Answer: Question: Josh a decis să învețe a jongler pentru a participa la un spectacol de talent în liceu, într-un an în viitor. El începe să practice jonglerie cu trei măinițe, și se îmbăta în timp ce adăuga o măiniță la actul său de jonglage în fiecare săptămână. După ce a terminat cu cea de-a patra săptămână, începe spectacolul de talent, dar când Josh se așază pe etajul, el se lovește și pierde trei măinițe. Două dintre ele sunt preseleți de oameni în audiențe, în timp ce una se pierde complet, deoarece audiențeul este întunecat. Josh începe să jongleze pe etajul cu numărul de măinițe?.\n",
      "Answer: Josh începe cu 3 măinițe și adaugă o măiniță în fiecare săptămână, astfel încât după 4 săptămâni, el are 3 + 4 = 7 măinițe.\n",
      "După ce se lovește și pierde trei măinițe, el rămâne cu 7 - 3 = 4 măinițe.\n",
      "Două dintre măinițe sunt preselecționate de oameni în audiențe, astfel încât el începe să jongleze cu 4 - 2 = 2 măinițe.\n",
      "Josh începe să jongleze pe etajul cu numărul de măinițe 2.\n",
      "#### 2\n",
      "The answer is: 2\n",
      "---\n",
      "Prompt: Question: Anna încearcă să cumpere cărți pentru bibliotecă locală. Ea avea un budget de 16 $ și a început să cumpere cărți, spunând că a cheltuit 4 $. A cumpărat și 2 cărți azi, și ambele cărți au costat-o aceeași sumă de bani. Dacă Anna are 2 $ rămași în buget, cu ce valoare au fost cumpărate cărțile?.\n",
      "Answer:\n",
      "Answer: Question: Anna încearcă să cumpere cărți pentru bibliotecă locală. Ea avea un budget de 16 $ și a început să cumpere cărți, spunând că a cheltuit 4 $. A cumpărat și 2 cărți azi, și ambele cărți au costat-o aceeași sumă de bani. Dacă Anna are 2 $ rămași în buget, cu ce valoare au fost cumpărate cărțile?.\n",
      "Answer: Anna a cheltuit 4 $ din bugetul ei, așa că bugetul ei rămas este 16 $ - 4 $ = 12 $.\n",
      "Ea a cumpărat 2 cărți, și ambele cărți au costat-o aceeași sumă de bani, așa că fiecare carte a costat 12 $ / 2 = 6 $.\n",
      "Astfel, cărțile au fost cumpărate pentru 6 $.\n",
      "#### 6\n",
      "The answer is: 6\n",
      "---\n",
      "Prompt: Question: La un anumite etapă, trei sferturi dintre elevi au un computer de scriere acasa. Dacă 20 elevi nu au un computer de scriere, cu ce nume de elevi se întâlnește la acea etapă?.\n",
      "Answer:\n",
      "Answer: Question: La un anumite etapă, trei sferturi dintre elevi au un computer de scriere acasa. Dacă 20 elevi nu au un computer de scriere, cu ce nume de elevi se întâlnește la acea etapă?.\n",
      "Answer: Dacă trei sferturi dintre elevi au un computer de scriere acasă, atunci 1 - 3/4 = 1/4 din elevi nu au un computer de scriere.\n",
      "Dacă 20 elevi nu au un computer de scriere, atunci 1/4 din elevi este egal cu 20.\n",
      "Să găsim numărul total de elevi: 1/4 * total = 20\n",
      "total = 20 / (1/4) = 20 * 4 = 80\n",
      "Astfel, la acea etapă, 80 elevi se întâlnesc.\n",
      "#### 80\n",
      "The answer is: 80\n",
      "---\n",
      "Prompt: Question: Marin și vecina sa Nancy mănâncă fiecare 4 de mărți pe zi. Numărul de mărți pe care le mănâncă în 30 de zile?.\n",
      "Answer:\n",
      "Answer: Question: Marin și vecina sa Nancy mănâncă fiecare 4 de mărți pe zi. Numărul de mărți pe care le mănâncă în 30 de zile?.\n",
      "Answer: Marin și Nancy mănâncă fiecare 4 de mărți pe zi, așa că împreună mănâncă 4 + 4 = 8 de mărți pe zi.\n",
      "Dacă mănâncă 8 de mărți pe zi, în 30 de zile vor mănâncă 8 * 30 = 240 de mărți.\n",
      "#### 240\n",
      "The answer is: 240\n",
      "---\n",
      "Prompt: Question: Nathan are în posesie de un mingei care sătură de 2/3 din înălțimea inițială cu fiecare săritură. Dacă aruncă mingei de la balconul de la trei etaje în centrul comercial, unde fiecare etaj are 24 de picioare înălțime, la ce înălțime atinge mingei mingea la al doilea salt?\n",
      "Answer:\n",
      "Answer: Question: Nathan are în posesie de un mingei care sătură de 2/3 din înălțimea inițială cu fiecare săritură. Dacă aruncă mingei de la balconul de la trei etaje în centrul comercial, unde fiecare etaj are 24 de picioare înălțime, la ce înălțime atinge mingei mingea la al doilea salt?\n",
      "Answer: La fiecare săritură, mingea atinge 2/3 din înălțimea inițială.\n",
      "La primul salt, mingea atinge 2/3 * 24 = 16 picioare.\n",
      "La al doilea salt, mingea atinge 2/3 * 16 = 10,67 picioare.\n",
      "Deoarece înălțimea trebuie să fie un număr întreg, mingea atinge înălțimea de 10 picioare la al doilea salt.\n",
      "#### 10\n",
      "The answer is: 10\n",
      "---\n",
      "I AM WORKING\n",
      "['Question: O cupă de păsarii pese 100 de grame și conține 3 de grame de proteine. Dacă John mănănește 200 de grame de păsarii pe zi, în cea ce privează proteine, câștigă în cea ce privează proteine pe săptămână?.\\nAnswer: John mănâncă 200 de grame de păsări pe zi, astfel într-o săptămână mănâncă 200 * 7 = 1400 de grame de păsări.\\nO cupă de păsări conține 3 de grame de proteine, astfel într-o săptămână John consumă 1400 / 100 * 3 = 42 de grame de proteine.\\nCâștigă în cea ce privește proteinele pe săptămână cu 42 - 3 = 39 de grame.\\n#### 39\\nThe answer is: 39', 'Question: Dave a cumpărat un mare pacșet de frituri și le-a mâncat 14 până când un păstrăv foarte mic l-a luat din mână. Când păstrăvul a aterizat, el a mânachit jumătate din numărul de frituri mâncate de Dave. Apoi, trei pătrăți l-au forțat să se înălțe de la mâncare, și fiecare pătrăț a mânachit trei frite. Ulterior, un vulpeț l-a luat două treimi din restul de frite. Formichele l-au luat ultima fritură, lăsând cinci în urmă. Numărul de frite în pacșet când Dave l-a cumpărat?.\\nAnswer: Dave a mâncat 14 frituri, iar păstrăvul a mânachit jumătate din numărul de frituri mâncate de Dave, ceea ce înseamnă că păstrăvul a mânachit 14/2 = 7 frituri.\\nDupă ce păstrăvul a mânachit, restul de frituri a fost 14 - 7 = 7 frituri.\\nTrei pătrăți l-au forțat să se înălțe de la mâncare, și fiecare pătrăț a mânachit trei frite, ceea ce înseamnă că pătrății au mânachit 3 * 3 = 9 frituri.\\nDupă ce pătrății au mânachit, restul de frituri a fost 7 - 9 = -2 frituri.\\nUn vulpeț l-a luat două treimi din restul de frite, ceea ce înseamnă că vulpețul a luat 2/3 * (-2) = -4/3 frituri.\\nDupă ce vulpețul a luat, restul de frituri a fost -2 - (-4/3) = -2 + 4/3 = -6/3 + 4/3 = -2/3 frituri.\\nFormichele l-au luat ultima fritură, lăsând cinci în urmă, ceea ce înseamnă că formichele au luat -2/3 + 5 = 2/3 + 5 = 5 1/3 frituri.\\nNumărul de frite în pacșet când Dave l-a cumpărat a fost 14 + 7 + 9 + (-2/3) + 5 1/3 = 35 1/3 frituri.\\n#### 35\\nThe answer is: 35', 'Question: Ruther a vândut 3/5 din terenul său și a rămas cu 12,8 hectare. Cât de teren avea în primul rând?.\\nAnswer: Dacă Ruther a vândut 3/5 din terenul său și a rămas cu 12,8 hectare, atunci terenul său inițial trebuie să fi fost 12,8 / (1 - 3/5) = 12,8 / (2/5) = 12,8 * (5/2) = 32 hectare.\\nAstfel, Ruther avea inițial 32 hectare de teren.', 'Question: Dacă 6 de cartofi fac 36 de frită de cartofi, cu numărul de 96 de cartofi, cu ce număr de frită de cartofi paiți?.\\nAnswer: Dacă 6 de cartofi fac 36 de frită de cartofi, atunci 1 cartofi face 36/6 = 6 frită de cartofi.\\nCu 96 de cartofi, paiți vor avea 96 * 6 = 576 frită de cartofi.', 'Question: Conform faptei nutriționale, un sac de făină de mașina are 250 de calorii pe porție. Dacă un sac de 300 g are 5 porții, cu ce începeți a mânca dacă obiettivo diară di calorie este de 2000 și au consumat deja 1800 calorii?\\nAnswer: Un sac de 300 g de făină de mașină are 5 porții, fiecare porție având 250 calorii.\\nAstfel, un sac de 300 g conține 5 x 250 = 1250 calorii.\\nDacă obiectivul caloric zilnic este de 2000 calorii și au consumat deja 1800 calorii, atunci au rămas 2000 - 1800 = 200 calorii.\\nDeoarece un sac de 300 g de făină de mașină conține 1250 calorii, nu este posibil să se mănânce un sac întreg, deoarece ar depăși obiectivul caloric zilnic.\\nCu toate acestea, o parte dintr-un sac de făină de mașină poate fi consumată, de exemplu, 1/4 dintr-un sac, care este echivalent cu 1/4 x 1250 = 312,5 calorii.\\nAstfel, dacă au consumat deja 1800 calorii și au rămas 200 calorii, atunci pot mânca 312,5 calorii dintr-un sac de făină de mașină.\\nAceasta înseamnă că pot mânca 312,5 / 250 = 1,25 porții dintr-un sac de făină de mașină.\\nDeoarece un sac de 300 g are 5 porții, atunci pot mânca 1,25 x 5 = 6,25 g de făină de mașină.\\nDin acest motiv, începeți a mânca 6,25 g de făină de mașină.', 'Question: Piramidele mari se află la un unghi de 32 degrade de la pământ, în momentul în care se află la intrarea casei lui Sahir. Solele se mișcă la o viteză de 5 degrade/ora, în direcția sus, de la piramidă, în raport cu casa lui Sahir. Dacă soarele începe la vârful piramidei și se mișcă pentru 10 ore, la numărul de degrade de la pământ la soarele?.\\nAnswer: Soarele se mișcă la o viteză de 5 degrade/ora, și se mișcă pentru 10 ore, astfel încât se mișcă 5 * 10 = 50 degrade.\\nPiramidele mari se află la un unghi de 32 degrade de la pământ, astfel încât soarele se află la 32 + 50 = 82 degrade de la pământ.\\nNumărul de degrade de la pământ la soarele este de 82.\\n#### 82\\nThe answer is: 82', 'Question: Marcus încearcă să se hotărească dacă are nevoie să termine cu lucrul de casă. Există 50% de probabilitate că mâine va avea un înlocuitor care nu va culege lucrul de casă. Așa că, chiar dacă va veni profesorul normal, există 40% de probabilitate că i-a va da întreaga clase o prorogare. Așa că, chiar dacă întreaga clase nu va beneficia de o prorogare, există 20% de probabilitate că Marcus va reuși să-i convina profesorului că câinele lui a mâinuit lucrul de casă și să-i câștige o prorogare personală. Ce este probabilitatea că Marcus va efectiv fi forțat să înapoie lucrul de casă mâine?.\\nAnswer: Există 50% de probabilitate că Marcus nu va avea un înlocuitor care nu va culege lucrul de casă.\\nDacă Marcus nu are un înlocuitor, există 40% de probabilitate că i-a va da întreaga clase o prorogare.\\nDacă întreaga clase nu va beneficia de o prorogare, există 20% de probabilitate că Marcus va reuși să-i câștige o prorogare personală.\\nPentru a găsi probabilitatea că Marcus va fi forțat să înapoie lucrul de casă, trebuie să găsim probabilitatea complementară a faptului că Marcus nu va fi forțat să înapoie lucrul de casă.\\nProbabilitatea complementară este 1 - probabilitatea.\\nProbabilitatea că Marcus va fi forțat să înapoie lucrul de casă este 1 - (1 - 0.5) * (1 - 0.4) * (1 - 0.2) = 1 - 0.5 * 0.6 * 0.8 = 1 - 0.24 = 0.76.\\nAșadar, probabilitatea că Marcus va efectiv fi forțat să înapoie lucrul de casă mâine este de 0.76.\\n#### 0.76\\nThe answer is: 0.76', 'Question: Tracy a folosit un pătrund de 1,2 m lung pentru a susține plantele de tomate în grădină. El a fost încălzit în părți de 15 cm lung. Numărul de părți obținute este\\nAnswer: Lungimea totală a pătrundului este de 1,2 m.\\nLungimea părților încălzite este de 15 cm.\\nPentru a găsi numărul de părți, trebuie să împărțim lungimea totală la lungimea fiecărei părți:\\n1,2 m / 0,15 m = 8 părți\\nNumărul de părți obținute este de 8.', 'Question: În grădina doamnei Smith există 100 de plante. O fiertă din plantele ei sunt plante interioare. Două treimi din plantele rămase sunt plantele de exterior, iar restul sunt plante florale. Câtul percentaj de plante sunt plante florale?\\nAnswer: Dintre cele 100 de plante, două treimi sunt plante de exterior, ceea ce înseamnă 100 * (2/3) = 66 plante de exterior.\\nRestul de plante sunt plante interioare și plante florale, ceea ce înseamnă 100 - 66 = 34 plante.\\nDin aceste 34 plante, câtul percentaj de plante sunt plante florale?\\nCâtul percentaj de plante florale este (34 / 100) * 100 = 34%.\\nAstfel, 34% din plantele din grădina doamnei Smith sunt plante florale.', 'Question: Într-o familie de 5 persoane, trei oameni mănâncă trei ouă pe zi, în timp ce restul mănâncă două ouă pe zi. Dacă mănâncă ouă în fiecare zi, numărul de ouă consumate de întreaga familie într-una săptămână este\\nAnswer: Într-o familie de 5 persoane, trei oameni mănâncă trei ouă pe zi, în timp ce restul mănâncă două ouă pe zi.\\n\\nTrei oameni mănâncă trei ouă pe zi, așa că consumă 3 * 3 = 9 ouă pe zi.\\nRestul de doi oameni mănâncă două ouă pe zi, așa că consumă 2 * 2 = 4 ouă pe zi.\\nÎn total, familia consumă 9 + 4 = 13 ouă pe zi.\\n\\nÎntr-o săptămână, care are 7 zile, familia consumă 13 * 7 = 91 ouă.\\n\\nNumărul de ouă consumate de întreaga familie într-una săptămână este 91.\\n#### 91\\nThe answer is: 91', 'Question: Gatjanii lui Heather au un preț de 4 $/pack și au 4 într-un pack. În momentul acesta, sunt în promoție, cu unul gratuit pentru fiecare cumpărat. Ea are și un coupon de 2 $. Cu ce valoare se va mărirea de 2 $/pack, după oferta, dacă ea cumpără 2 packuri de gatjani?.\\nAnswer: Fiecare pack de gatjani costă 4 $, iar în promoție, unul este gratuit pentru fiecare cumpărat. Așadar, cumpărând 2 packuri, ea va plăti doar pentru 1 pack.\\nCouponul de 2 $ va fi aplicat la prețul de 4 $, astfel încât prețul final va fi 4 - 2 = 2 $.\\nDacă ea cumpără 2 packuri de gatjani, valoarea totală a achiziției sale va fi 2 * 2 = 4 $.\\nDupă oferta, prețul de 2 $/pack va fi aplicat, astfel încât valoarea totală a achiziției sale va fi 4 * 2 = 8 $.\\nDiferența de valoare este de 8 - 4 = 4 $.\\nAstfel, valoarea de 2 $/pack va fi mărită cu 4 $.\\n#### 4\\nThe answer is: 4', 'Question: Erika economize pentru un laptop nou. Laptopul pe care dorește sălășlăște la 600$. Vânzătorul i-a spus că, dacă vând laptopul vechiul, prețul laptopului nou se reduce cu 200$. Erika consideră că este o ofertă bună și aceasta aceasta. Erika deja avea câștiguri în buzunar și a fost plătită 150$ în acea săptămână pentru munca de parte-time. Mama ei este de acord să-i dea 80$ pentru a ajuta-o. Dacă Erika are acum doar 50$ în plus pentru a cumpăra laptopul, ce amănțimează în buzunar?\\nAnswer: Erika economizează pentru un laptop nou, care costă 600$.\\nVânzătorul i-a spus că, dacă vând laptopul vechiul, prețul laptopului nou se reduce cu 200$.\\nErika consideră că este o ofertă bună și aceasta aceasta.\\nErika deja avea câștiguri în buzunar și a fost plătită 150$ în acea săptămână pentru munca de parte-time.\\nMama ei este de acord să-i dea 80$ pentru a ajuta-o.\\nDacă Erika are acum doar 50$ în plus pentru a cumpăra laptopul, ce amănțimează în buzunar?\\n\\nErika a economisit 150$ + 80$ = 230$ pentru a cumpăra laptopul.\\nPrețul laptopului nou se reduce cu 200$, astfel încât Erika trebuie să plătească 600$ - 200$ = 400$ pentru laptop.\\nErika are 230$ în buzunar, dar trebuie să plătească 400$, astfel încât ea are 400$ - 230$ = 170$ în plus pentru a cumpăra laptopul.\\n\\n#### 170\\nThe answer is: 170', 'Question: Pentru fiecare muffin, Svetlana avea nevoie de 5 tablouri de farină, 3 tablouri de zahăr și 0,25 de tablou de sărăcină. Numărul de tablouri de ingrediente seche necesare pentru a prepara 16 muffins?.\\nAnswer: Pentru fiecare muffin, Svetlana avea nevoie de 5 tablouri de farină, 3 tablouri de zahăr și 0,25 de tablou de sărăcină.\\nPentru 16 muffins, Svetlana va avea nevoie de 16 * 5 = 80 tablouri de farină.\\nEa va avea nevoie de 16 * 3 = 48 tablouri de zahăr.\\nEa va avea nevoie de 16 * 0,25 = 4 tablouri de sărăcină.\\nÎn total, Svetlana va avea nevoie de 80 + 48 + 4 = 132 tablouri de ingrediente seche.\\n#### 132\\nThe answer is: 132', 'Question: Frederick face parte dintr-o activitate de vânzare de popsicle și pentru a economisi bani, el face și săpunii de popsicle. El poate obține 200 săpunii dintr-un 2 x 4 și 400 săpunii dintr-un 2 x 8 de lemn. El are 24 $ pentru a cumpăra lemn pentru săpunii. Un 2 x 4 costă 4 $ și un 2 x 8 costă 6 $. Cât de multe săpunii el poate face dacă cumpără lemnul la prețul minim?\\nAnswer: Frederick are 24 $ pentru a cumpăra lemn.\\nUn 2 x 4 costă 4 $, așa că Frederick poate cumpăra 24 / 4 = 6 2 x 4.\\nUn 2 x 8 costă 6 $, așa că Frederick poate cumpăra 24 / 6 = 4 2 x 8.\\nDin 6 2 x 4, Frederick poate face 6 x 200 = 1200 săpunii.\\nDin 4 2 x 8, Frederick poate face 4 x 400 = 1600 săpunii.\\nÎn total, Frederick poate face 1200 + 1600 = 2800 săpunii.\\n#### 2800\\nThe answer is: 2800', 'Question: Meredith este o blogger freelance care scrie despre teme de sănătate și care prezintă articole pentru clienți pe post de muncă permanentă. Un articol de blog are o durată medie de 4 ore de investigații și scris. În săptămâna trecută, ea a scris 5 articole pe lună și 2/5 articole în plus pe marti în comparație cu lună. Începutul săptămânii a fost mai produs, ea scris 2 articole în zi. Calculați numărul total de ore în care a scris articolele în cele trei zile.\\nAnswer: În săptămâna trecută, Meredith a scris 5 articole pe lună, ceea ce înseamnă 5 * 4 = 20 ore de investigații și scris.\\nPe marti, ea a scris 2/5 articole în plus, ceea ce înseamnă 2/5 * 5 = 2 articole în plus.\\nAstfel, pe marti, ea a scris 5 + 2 = 7 articole.\\n7 articole * 4 ore = 28 ore de investigații și scris pe marti.\\nÎnceputul săptămânii a fost mai produs, ea scris 2 articole în zi.\\n2 articole * 4 ore = 8 ore de investigații și scris în ziua de duminică.\\nÎn total, ea a scris 20 + 28 + 8 = 56 ore de investigații și scris în cele trei zile.\\n#### 56\\nThe answer is: 56', 'Question: Josh a decis să învețe a jongler pentru a participa la un spectacol de talent în liceu, într-un an în viitor. El începe să practice jonglerie cu trei măinițe, și se îmbăta în timp ce adăuga o măiniță la actul său de jonglage în fiecare săptămână. După ce a terminat cu cea de-a patra săptămână, începe spectacolul de talent, dar când Josh se așază pe etajul, el se lovește și pierde trei măinițe. Două dintre ele sunt preseleți de oameni în audiențe, în timp ce una se pierde complet, deoarece audiențeul este întunecat. Josh începe să jongleze pe etajul cu numărul de măinițe?.\\nAnswer: Josh începe cu 3 măinițe și adaugă o măiniță în fiecare săptămână, astfel încât după 4 săptămâni, el are 3 + 4 = 7 măinițe.\\nDupă ce se lovește și pierde trei măinițe, el rămâne cu 7 - 3 = 4 măinițe.\\nDouă dintre măinițe sunt preselecționate de oameni în audiențe, astfel încât el începe să jongleze cu 4 - 2 = 2 măinițe.\\nJosh începe să jongleze pe etajul cu numărul de măinițe 2.\\n#### 2\\nThe answer is: 2', 'Question: Anna încearcă să cumpere cărți pentru bibliotecă locală. Ea avea un budget de 16 $ și a început să cumpere cărți, spunând că a cheltuit 4 $. A cumpărat și 2 cărți azi, și ambele cărți au costat-o aceeași sumă de bani. Dacă Anna are 2 $ rămași în buget, cu ce valoare au fost cumpărate cărțile?.\\nAnswer: Anna a cheltuit 4 $ din bugetul ei, așa că bugetul ei rămas este 16 $ - 4 $ = 12 $.\\nEa a cumpărat 2 cărți, și ambele cărți au costat-o aceeași sumă de bani, așa că fiecare carte a costat 12 $ / 2 = 6 $.\\nAstfel, cărțile au fost cumpărate pentru 6 $.\\n#### 6\\nThe answer is: 6', 'Question: La un anumite etapă, trei sferturi dintre elevi au un computer de scriere acasa. Dacă 20 elevi nu au un computer de scriere, cu ce nume de elevi se întâlnește la acea etapă?.\\nAnswer: Dacă trei sferturi dintre elevi au un computer de scriere acasă, atunci 1 - 3/4 = 1/4 din elevi nu au un computer de scriere.\\nDacă 20 elevi nu au un computer de scriere, atunci 1/4 din elevi este egal cu 20.\\nSă găsim numărul total de elevi: 1/4 * total = 20\\ntotal = 20 / (1/4) = 20 * 4 = 80\\nAstfel, la acea etapă, 80 elevi se întâlnesc.\\n#### 80\\nThe answer is: 80', 'Question: Marin și vecina sa Nancy mănâncă fiecare 4 de mărți pe zi. Numărul de mărți pe care le mănâncă în 30 de zile?.\\nAnswer: Marin și Nancy mănâncă fiecare 4 de mărți pe zi, așa că împreună mănâncă 4 + 4 = 8 de mărți pe zi.\\nDacă mănâncă 8 de mărți pe zi, în 30 de zile vor mănâncă 8 * 30 = 240 de mărți.\\n#### 240\\nThe answer is: 240', 'Question: Nathan are în posesie de un mingei care sătură de 2/3 din înălțimea inițială cu fiecare săritură. Dacă aruncă mingei de la balconul de la trei etaje în centrul comercial, unde fiecare etaj are 24 de picioare înălțime, la ce înălțime atinge mingei mingea la al doilea salt?\\nAnswer: La fiecare săritură, mingea atinge 2/3 din înălțimea inițială.\\nLa primul salt, mingea atinge 2/3 * 24 = 16 picioare.\\nLa al doilea salt, mingea atinge 2/3 * 16 = 10,67 picioare.\\nDeoarece înălțimea trebuie să fie un număr întreg, mingea atinge înălțimea de 10 picioare la al doilea salt.\\n#### 10\\nThe answer is: 10']\n"
     ]
    },
    {
     "name": "stderr",
     "output_type": "stream",
     "text": [
      "\n",
      "/leonardo_work/IscrC_MGNTC/tmencatt/mergenetic/src/mergenetic/optimization/merging_problem.py:296: FutureWarning: The behavior of DataFrame concatenation with empty or all-NA entries is deprecated. In a future version, this will no longer exclude empty or all-NA columns when determining the result dtypes. To retain the old behavior, exclude the relevant entries before the concat operation.\n",
      "  self.results_df = pd.concat([self.results_df, log_entry_df], ignore_index=True)\n"
     ]
    },
    {
     "name": "stdout",
     "output_type": "stream",
     "text": [
      "Step 1:\n",
      "Metric f: [np.float64(-0.3696964933997197)]\n",
      "Individual [0.1 0.8 0.6 0.3 0.9 1.  1.  0.8 0.7 0.6 0.4] description: got the fitness values -0.3696964933997197\n",
      "\n",
      "Search Completed.\n",
      "Best solution found: [ 1  8  6  3  9 10 10  8  7  6  4]\n",
      "Function value: [-0.36969649]\n",
      "STEP 10 completed: Search finished and testing done\n"
     ]
    }
   ],
   "source": [
    "# Define the searcher and run the search\n",
    "result_path = \"/leonardo_work/IscrC_MGNTC/tmencatt/mergenetic/experiments/evolutionary-merging\"\n",
    "searcher = Searcher(problem, algorithm, result_path, n_iter, run_id=run_id, seed=config.seed, verbose=False)\n",
    "searcher.search()\n",
    "#searcher.test()\n",
    "\n",
    "print(\"STEP 10 completed: Search finished and testing done\")"
   ]
  },
  {
   "cell_type": "code",
   "execution_count": 24,
   "id": "3cbb08b0",
   "metadata": {},
   "outputs": [
    {
     "data": {
      "text/plain": [
       "array([0.1, 0.8, 0.6, 0.3, 0.9, 1. , 1. , 0.8, 0.7, 0.6, 0.4])"
      ]
     },
     "execution_count": 24,
     "metadata": {},
     "output_type": "execute_result"
    }
   ],
   "source": [
    "searcher.result_X"
   ]
  },
  {
   "cell_type": "code",
   "execution_count": 25,
   "id": "6e1f45e4",
   "metadata": {},
   "outputs": [
    {
     "data": {
      "text/html": [
       "<div>\n",
       "<style scoped>\n",
       "    .dataframe tbody tr th:only-of-type {\n",
       "        vertical-align: middle;\n",
       "    }\n",
       "\n",
       "    .dataframe tbody tr th {\n",
       "        vertical-align: top;\n",
       "    }\n",
       "\n",
       "    .dataframe thead th {\n",
       "        text-align: right;\n",
       "    }\n",
       "</style>\n",
       "<table border=\"1\" class=\"dataframe\">\n",
       "  <thead>\n",
       "    <tr style=\"text-align: right;\">\n",
       "      <th></th>\n",
       "      <th>objective_1</th>\n",
       "      <th>genotype_1</th>\n",
       "      <th>genotype_2</th>\n",
       "      <th>genotype_3</th>\n",
       "      <th>genotype_4</th>\n",
       "      <th>genotype_5</th>\n",
       "      <th>genotype_6</th>\n",
       "      <th>genotype_7</th>\n",
       "      <th>genotype_8</th>\n",
       "      <th>genotype_9</th>\n",
       "      <th>genotype_10</th>\n",
       "      <th>genotype_11</th>\n",
       "      <th>step</th>\n",
       "    </tr>\n",
       "  </thead>\n",
       "  <tbody>\n",
       "    <tr>\n",
       "      <th>0</th>\n",
       "      <td>-0.369696</td>\n",
       "      <td>0.1</td>\n",
       "      <td>0.8</td>\n",
       "      <td>0.6</td>\n",
       "      <td>0.3</td>\n",
       "      <td>0.9</td>\n",
       "      <td>1.0</td>\n",
       "      <td>1.0</td>\n",
       "      <td>0.8</td>\n",
       "      <td>0.7</td>\n",
       "      <td>0.6</td>\n",
       "      <td>0.4</td>\n",
       "      <td>1</td>\n",
       "    </tr>\n",
       "  </tbody>\n",
       "</table>\n",
       "</div>"
      ],
      "text/plain": [
       "   objective_1  genotype_1  genotype_2  genotype_3  genotype_4  genotype_5  \\\n",
       "0    -0.369696         0.1         0.8         0.6         0.3         0.9   \n",
       "\n",
       "   genotype_6  genotype_7  genotype_8  genotype_9  genotype_10  genotype_11  \\\n",
       "0         1.0         1.0         0.8         0.7          0.6          0.4   \n",
       "\n",
       "  step  \n",
       "0    1  "
      ]
     },
     "execution_count": 25,
     "metadata": {},
     "output_type": "execute_result"
    }
   ],
   "source": [
    "searcher.problem.results_df"
   ]
  },
  {
   "cell_type": "code",
   "execution_count": 26,
   "id": "cb8cc9e4",
   "metadata": {},
   "outputs": [
    {
     "data": {
      "image/png": "[encoded data removed]",
      "text/plain": [
       "<Figure size 1000x400 with 1 Axes>"
      ]
     },
     "metadata": {},
     "output_type": "display_data"
    }
   ],
   "source": [
    "searcher.visualize_results()"
   ]
  },
  {
   "cell_type": "markdown",
   "id": "b7a85d3a-3b34-4238-8b32-1512b56b44e5",
   "metadata": {},
   "source": [
    "## Conclusion\n",
    "\n",
    "In this notebook, we walked through the process of setting up and executing a cross-lingual evolutionary merging experiment using the Mergenetic library. \n",
    "\n",
    "You can now experiment with different configurations, merging methods, or optimization parameters to further explore cross-lingual model merging.\n",
    "\n",
    "**Happy merging!**"
   ]
  }
 ],
 "metadata": {
  "kernelspec": {
   "display_name": "mergenetic",
   "language": "python",
   "name": "python3"
  },
  "language_info": {
   "codemirror_mode": {
    "name": "ipython",
    "version": 3
   },
   "file_extension": ".py",
   "mimetype": "text/x-python",
   "name": "python",
   "nbconvert_exporter": "python",
   "pygments_lexer": "ipython3",
   "version": "3.12.2"
  }
 },
 "nbformat": 4,
 "nbformat_minor": 5
}
